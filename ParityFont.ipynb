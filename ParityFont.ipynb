{
 "cells": [
  {
   "cell_type": "code",
   "execution_count": 22,
   "metadata": {
    "collapsed": false,
    "hide_input": false,
    "hide_output": true
   },
   "outputs": [],
   "source": [
    "# Importing modules\n",
    "%matplotlib inline\n",
    "\n",
    "import os, string\n",
    "import random\n",
    "import pandas as pd\n",
    "import numpy as np\n",
    "from scipy import stats, spatial\n",
    "from matplotlib import pylab as plt\n",
    "from IPython.display import display\n",
    "from PIL import Image, ImageDraw, ImageFont, ImageFilter\n",
    "from skimage.morphology import convex_hull_image\n",
    "### Own functions\n",
    "import myner as my"
   ]
  },
  {
   "cell_type": "code",
   "execution_count": 23,
   "metadata": {
    "collapsed": true
   },
   "outputs": [],
   "source": [
    "import seaborn as sns\n",
    "sns.set_context(\"paper\", font_scale=1.25)\n",
    "sns.set_style(\"ticks\")"
   ]
  },
  {
   "cell_type": "code",
   "execution_count": 24,
   "metadata": {
    "code_folding": [],
    "collapsed": false,
    "hide_input": true,
    "hide_output": true
   },
   "outputs": [],
   "source": [
    "# Reading and cleaning data\n",
    "raw = my.collect_data('/home/akkus/Documents/NumLab/data/Parity_font', delim=' ')\n",
    "data = my.clean_data(raw, 'B', 'num_comp', header={'A':'ID', 'B':'Task', 'C':'Font', 'D':'First_code', 'E':'Resp_code', 'F':'Value', 'G':'Resp_key', 'H':'RT'})"
   ]
  },
  {
   "cell_type": "code",
   "execution_count": 25,
   "metadata": {
    "collapsed": false
   },
   "outputs": [],
   "source": [
    "# Excluding a certain value (optional)\n",
    "excluded = 0\n",
    "data = data[data['Value'] != excluded]\n",
    "values = sorted(set(data['Value']))\n",
    "\n",
    "# Converting values to string \n",
    "values_str = \"\".join(str(x) for x in values)"
   ]
  },
  {
   "cell_type": "code",
   "execution_count": 26,
   "metadata": {
    "collapsed": false
   },
   "outputs": [],
   "source": [
    "def compute_pellis_pc(font_pil, letter):\n",
    "    img = Image.new('1', (100, 100), 'white')\n",
    "    draw = ImageDraw.Draw(img)\n",
    "    draw.text((0,0), letter, font=font_pil, fill='black')\n",
    "    ink = len([x for x in list(img.getdata()) if x == 0])\n",
    "    def draw_contour(x=0, y=0, tint='black'):\n",
    "        draw.text((x+1,y), letter, font=font_pil, fill=tint)\n",
    "        draw.text((x+1,y+1), letter, font=font_pil, fill=tint)\n",
    "        draw.text((x,y+1), letter, font=font_pil, fill=tint)\n",
    "        draw.text((x-1,y), letter, font=font_pil, fill=tint)\n",
    "        draw.text((x-1,y-1), letter, font=font_pil, fill=tint)\n",
    "        draw.text((x,y-1), letter, font=font_pil, fill=tint)\n",
    "        draw.text((x,y), letter, font=font_pil, fill='white')\n",
    "    draw_contour(1,0)\n",
    "    draw_contour(-1,0)\n",
    "    draw_contour(0,1)\n",
    "    draw_contour(0,-1)\n",
    "    draw_contour(0,0)\n",
    "    display(img)\n",
    "    perimeter = len([x for x in list(img.getdata()) if x == 0])/3\n",
    "    complexity = np.square(perimeter)/ink/np.pi\n",
    "    print 'Ink area: ', ink\n",
    "    print 'Perimeter: ', perimeter\n",
    "    print 'Complexity: ', complexity\n",
    "    return ink, perimeter, complexity"
   ]
  },
  {
   "cell_type": "code",
   "execution_count": 27,
   "metadata": {
    "collapsed": false
   },
   "outputs": [
    {
     "name": "stdout",
     "output_type": "stream",
     "text": [
      "FreeSans.ttf\n"
     ]
    },
    {
     "data": {
      "image/png": "[encoded data removed]",
      "text/plain": [
       "<PIL.Image.Image image mode=1 size=100x100 at 0x7F47F8C20AD0>"
      ]
     },
     "metadata": {},
     "output_type": "display_data"
    },
    {
     "name": "stdout",
     "output_type": "stream",
     "text": [
      "Ink area:  741\n",
      "Perimeter:  125\n",
      "Complexity:  6.68450760986\n"
     ]
    },
    {
     "data": {
      "image/png": "[encoded data removed]",
      "text/plain": [
       "<PIL.Image.Image image mode=1 size=100x100 at 0x7F47F8C20AD0>"
      ]
     },
     "metadata": {},
     "output_type": "display_data"
    },
    {
     "name": "stdout",
     "output_type": "stream",
     "text": [
      "Ink area:  1390\n",
      "Perimeter:  240\n",
      "Complexity:  13.0507053335\n"
     ]
    },
    {
     "data": {
      "image/png": "[encoded data removed]",
      "text/plain": [
       "<PIL.Image.Image image mode=1 size=100x100 at 0x7F47F8C20AD0>"
      ]
     },
     "metadata": {},
     "output_type": "display_data"
    },
    {
     "name": "stdout",
     "output_type": "stream",
     "text": [
      "Ink area:  1393\n",
      "Perimeter:  232\n",
      "Complexity:  12.095775675\n"
     ]
    },
    {
     "data": {
      "image/png": "[encoded data removed]",
      "text/plain": [
       "<PIL.Image.Image image mode=1 size=100x100 at 0x7F47F8C20AD0>"
      ]
     },
     "metadata": {},
     "output_type": "display_data"
    },
    {
     "name": "stdout",
     "output_type": "stream",
     "text": [
      "Ink area:  1243\n",
      "Perimeter:  203\n",
      "Complexity:  10.5042262441\n"
     ]
    },
    {
     "data": {
      "image/png": "[encoded data removed]",
      "text/plain": [
       "<PIL.Image.Image image mode=1 size=100x100 at 0x7F47F8C20AD0>"
      ]
     },
     "metadata": {},
     "output_type": "display_data"
    },
    {
     "name": "stdout",
     "output_type": "stream",
     "text": [
      "Ink area:  1401\n",
      "Perimeter:  238\n",
      "Complexity:  12.7323954474\n"
     ]
    },
    {
     "data": {
      "image/png": "[encoded data removed]",
      "text/plain": [
       "<PIL.Image.Image image mode=1 size=100x100 at 0x7F47F8C20AD0>"
      ]
     },
     "metadata": {},
     "output_type": "display_data"
    },
    {
     "name": "stdout",
     "output_type": "stream",
     "text": [
      "Ink area:  1562\n",
      "Perimeter:  246\n",
      "Complexity:  12.095775675\n"
     ]
    },
    {
     "data": {
      "image/png": "[encoded data removed]",
      "text/plain": [
       "<PIL.Image.Image image mode=1 size=100x100 at 0x7F47F8C20AD0>"
      ]
     },
     "metadata": {},
     "output_type": "display_data"
    },
    {
     "name": "stdout",
     "output_type": "stream",
     "text": [
      "Ink area:  891\n",
      "Perimeter:  177\n",
      "Complexity:  11.1408460164\n"
     ]
    },
    {
     "data": {
      "image/png": "[encoded data removed]",
      "text/plain": [
       "<PIL.Image.Image image mode=1 size=100x100 at 0x7F47F8C20AD0>"
      ]
     },
     "metadata": {},
     "output_type": "display_data"
    },
    {
     "name": "stdout",
     "output_type": "stream",
     "text": [
      "Ink area:  1623\n",
      "Perimeter:  243\n",
      "Complexity:  11.4591559026\n"
     ]
    },
    {
     "data": {
      "image/png": "[encoded data removed]",
      "text/plain": [
       "<PIL.Image.Image image mode=1 size=100x100 at 0x7F47F8C20AD0>"
      ]
     },
     "metadata": {},
     "output_type": "display_data"
    },
    {
     "name": "stdout",
     "output_type": "stream",
     "text": [
      "Ink area:  1529\n",
      "Perimeter:  242\n",
      "Complexity:  12.095775675\n",
      "Courier_New.ttf\n"
     ]
    },
    {
     "data": {
      "image/png": "[encoded data removed]",
      "text/plain": [
       "<PIL.Image.Image image mode=1 size=100x100 at 0x7F47F8C20310>"
      ]
     },
     "metadata": {},
     "output_type": "display_data"
    },
    {
     "name": "stdout",
     "output_type": "stream",
     "text": [
      "Ink area:  459\n",
      "Perimeter:  157\n",
      "Complexity:  16.8704239677\n"
     ]
    },
    {
     "data": {
      "image/png": "[encoded data removed]",
      "text/plain": [
       "<PIL.Image.Image image mode=1 size=100x100 at 0x7F47F8C20310>"
      ]
     },
     "metadata": {},
     "output_type": "display_data"
    },
    {
     "name": "stdout",
     "output_type": "stream",
     "text": [
      "Ink area:  577\n",
      "Perimeter:  209\n",
      "Complexity:  23.8732414638\n"
     ]
    },
    {
     "data": {
      "image/png": "[encoded data removed]",
      "text/plain": [
       "<PIL.Image.Image image mode=1 size=100x100 at 0x7F47F8C20310>"
      ]
     },
     "metadata": {},
     "output_type": "display_data"
    },
    {
     "name": "stdout",
     "output_type": "stream",
     "text": [
      "Ink area:  557\n",
      "Perimeter:  188\n",
      "Complexity:  20.0535228296\n"
     ]
    },
    {
     "data": {
      "image/png": "[encoded data removed]",
      "text/plain": [
       "<PIL.Image.Image image mode=1 size=100x100 at 0x7F47F8C20310>"
      ]
     },
     "metadata": {},
     "output_type": "display_data"
    },
    {
     "name": "stdout",
     "output_type": "stream",
     "text": [
      "Ink area:  622\n",
      "Perimeter:  206\n",
      "Complexity:  21.6450722605\n"
     ]
    },
    {
     "data": {
      "image/png": "[encoded data removed]",
      "text/plain": [
       "<PIL.Image.Image image mode=1 size=100x100 at 0x7F47F8C20310>"
      ]
     },
     "metadata": {},
     "output_type": "display_data"
    },
    {
     "name": "stdout",
     "output_type": "stream",
     "text": [
      "Ink area:  583\n",
      "Perimeter:  200\n",
      "Complexity:  21.6450722605\n"
     ]
    },
    {
     "data": {
      "image/png": "[encoded data removed]",
      "text/plain": [
       "<PIL.Image.Image image mode=1 size=100x100 at 0x7F47F8C20310>"
      ]
     },
     "metadata": {},
     "output_type": "display_data"
    },
    {
     "name": "stdout",
     "output_type": "stream",
     "text": [
      "Ink area:  681\n",
      "Perimeter:  222\n",
      "Complexity:  22.9183118052\n"
     ]
    },
    {
     "data": {
      "image/png": "[encoded data removed]",
      "text/plain": [
       "<PIL.Image.Image image mode=1 size=100x100 at 0x7F47F8C20310>"
      ]
     },
     "metadata": {},
     "output_type": "display_data"
    },
    {
     "name": "stdout",
     "output_type": "stream",
     "text": [
      "Ink area:  409\n",
      "Perimeter:  150\n",
      "Complexity:  17.5070437401\n"
     ]
    },
    {
     "data": {
      "image/png": "[encoded data removed]",
      "text/plain": [
       "<PIL.Image.Image image mode=1 size=100x100 at 0x7F47F8C20310>"
      ]
     },
     "metadata": {},
     "output_type": "display_data"
    },
    {
     "name": "stdout",
     "output_type": "stream",
     "text": [
      "Ink area:  695\n",
      "Perimeter:  229\n",
      "Complexity:  23.8732414638\n"
     ]
    },
    {
     "data": {
      "image/png": "[encoded data removed]",
      "text/plain": [
       "<PIL.Image.Image image mode=1 size=100x100 at 0x7F47F8C20310>"
      ]
     },
     "metadata": {},
     "output_type": "display_data"
    },
    {
     "name": "stdout",
     "output_type": "stream",
     "text": [
      "Ink area:  658\n",
      "Perimeter:  220\n",
      "Complexity:  23.2366216914\n"
     ]
    },
    {
     "data": {
      "text/html": [
       "<div>\n",
       "<table border=\"1\" class=\"dataframe\">\n",
       "  <thead>\n",
       "    <tr style=\"text-align: right;\">\n",
       "      <th></th>\n",
       "      <th>FreeSans.ttf</th>\n",
       "      <th>Courier_New.ttf</th>\n",
       "      <th>Diff</th>\n",
       "    </tr>\n",
       "  </thead>\n",
       "  <tbody>\n",
       "    <tr>\n",
       "      <th>1</th>\n",
       "      <td>125</td>\n",
       "      <td>157</td>\n",
       "      <td>-32</td>\n",
       "    </tr>\n",
       "    <tr>\n",
       "      <th>2</th>\n",
       "      <td>240</td>\n",
       "      <td>209</td>\n",
       "      <td>31</td>\n",
       "    </tr>\n",
       "    <tr>\n",
       "      <th>3</th>\n",
       "      <td>232</td>\n",
       "      <td>188</td>\n",
       "      <td>44</td>\n",
       "    </tr>\n",
       "    <tr>\n",
       "      <th>4</th>\n",
       "      <td>203</td>\n",
       "      <td>206</td>\n",
       "      <td>-3</td>\n",
       "    </tr>\n",
       "    <tr>\n",
       "      <th>5</th>\n",
       "      <td>238</td>\n",
       "      <td>200</td>\n",
       "      <td>38</td>\n",
       "    </tr>\n",
       "    <tr>\n",
       "      <th>6</th>\n",
       "      <td>246</td>\n",
       "      <td>222</td>\n",
       "      <td>24</td>\n",
       "    </tr>\n",
       "    <tr>\n",
       "      <th>7</th>\n",
       "      <td>177</td>\n",
       "      <td>150</td>\n",
       "      <td>27</td>\n",
       "    </tr>\n",
       "    <tr>\n",
       "      <th>8</th>\n",
       "      <td>243</td>\n",
       "      <td>229</td>\n",
       "      <td>14</td>\n",
       "    </tr>\n",
       "    <tr>\n",
       "      <th>9</th>\n",
       "      <td>242</td>\n",
       "      <td>220</td>\n",
       "      <td>22</td>\n",
       "    </tr>\n",
       "  </tbody>\n",
       "</table>\n",
       "</div>"
      ],
      "text/plain": [
       "   FreeSans.ttf  Courier_New.ttf  Diff\n",
       "1           125              157   -32\n",
       "2           240              209    31\n",
       "3           232              188    44\n",
       "4           203              206    -3\n",
       "5           238              200    38\n",
       "6           246              222    24\n",
       "7           177              150    27\n",
       "8           243              229    14\n",
       "9           242              220    22"
      ]
     },
     "metadata": {},
     "output_type": "display_data"
    }
   ],
   "source": [
    "numbers = values_str\n",
    "font_names = ['FreeSans.ttf', 'Courier_New.ttf']\n",
    "\n",
    "complexity = pd.DataFrame(index=list(numbers))\n",
    "for font in font_names:\n",
    "    print font\n",
    "    pc_list = []\n",
    "    font_pil = ImageFont.truetype(font, 100)\n",
    "    for letter in numbers:\n",
    "        pc_list.append(compute_pellis_pc(font_pil, letter)[1])\n",
    "    complexity[font] = pc_list\n",
    "complexity['Diff'] = complexity[font_names[0]] - complexity[font_names[1]]\n",
    "    \n",
    "display(complexity)    "
   ]
  },
  {
   "cell_type": "code",
   "execution_count": 28,
   "metadata": {
    "collapsed": false
   },
   "outputs": [
    {
     "data": {
      "text/plain": [
       "<matplotlib.axes._subplots.AxesSubplot at 0x7f47f8c42450>"
      ]
     },
     "execution_count": 28,
     "metadata": {},
     "output_type": "execute_result"
    },
    {
     "data": {
      "image/png": "[encoded data removed]",
      "text/plain": [
       "<matplotlib.figure.Figure at 0x7f47f8ba40d0>"
      ]
     },
     "metadata": {},
     "output_type": "display_data"
    }
   ],
   "source": [
    "complexity.plot()"
   ]
  },
  {
   "cell_type": "code",
   "execution_count": 29,
   "metadata": {
    "collapsed": false
   },
   "outputs": [],
   "source": [
    "# New variables\n",
    "\n",
    "### RT in ms\n",
    "data = data.assign(RTms = data['RT']*1000)\n",
    "\n",
    "### Resp_side\n",
    "def add_respside(data, key='Resp_key'):\n",
    "    resp_side = []\n",
    "    for i, key in enumerate(data[key]):\n",
    "        if key == 'q':\n",
    "            resp_side.insert(i, 'left')\n",
    "        elif key == 'p':\n",
    "            resp_side.insert(i, 'right')\n",
    "        else:\n",
    "            resp_side.insert(i, 'miss')\n",
    "    data = data.assign(Resp_side = resp_side)\n",
    "    return data\n",
    "\n",
    "data = add_respside(data)\n",
    "\n",
    "### Parity\n",
    "parity = []\n",
    "for i, no in enumerate(data['Value']):\n",
    "    if no == 2 or no == 4 or no == 6 or no == 8:\n",
    "        parity.insert(i, 2)\n",
    "    else:\n",
    "        parity.insert(i, 1)\n",
    "        \n",
    "data = data.assign(Parity = parity)\n",
    "\n",
    "###Error\n",
    "def add_error_parity(data):\n",
    "    error = []        \n",
    "    for i, arr in enumerate(data['Resp_code']):\n",
    "        if arr == 'QP':\n",
    "            if data.iloc[i]['Resp_side'] == 'left' and data.iloc[i]['Parity'] == 2:\n",
    "                error.insert(i, 0)\n",
    "            elif data.iloc[i]['Resp_side'] == 'right' and data.iloc[i]['Parity'] == 1:\n",
    "                error.insert(i, 0)\n",
    "            else:\n",
    "                error.insert(i, 1)\n",
    "        elif arr == 'PQ':\n",
    "            if data.iloc[i]['Resp_side'] == 'left' and data.iloc[i]['Parity'] == 1:\n",
    "                error.insert(i, 0)\n",
    "            elif data.iloc[i]['Resp_side'] == 'right' and data.iloc[i]['Parity'] == 2:\n",
    "                error.insert(i, 0)\n",
    "            else:\n",
    "                error.insert(i, 1)\n",
    "    data = data.assign(Error = error)\n",
    "    return data\n",
    "\n",
    "data = add_error_parity(data)\n",
    "\n",
    "### Block\n",
    "block = []\n",
    "for i, code in enumerate(data['Resp_code']):\n",
    "    if data.iloc[i]['First_code'] == code:\n",
    "        block.insert(i, 1)\n",
    "    else:\n",
    "        block.insert(i, 2)\n",
    "        \n",
    "data = data.assign(Block = block)"
   ]
  },
  {
   "cell_type": "markdown",
   "metadata": {},
   "source": [
    "## Participants"
   ]
  },
  {
   "cell_type": "code",
   "execution_count": 30,
   "metadata": {
    "collapsed": false,
    "hide_input": false
   },
   "outputs": [
    {
     "name": "stdout",
     "output_type": "stream",
     "text": [
      "['1_1', '1_10', '1_2', '1_3', '1_4', '1_5', '1_6', '1_7', '1_8', '1_9', '2_1', '2_2', '2_3', '2_4', '2_5', '2_6', '2_7', '2_8', '2_9', '3_1', '3_2', '3_3', '3_4', '3_5', '4_1', '4_2', '4_3', '4_4', '4_5']\n",
      "N = 29\n"
     ]
    }
   ],
   "source": [
    "# Participants\n",
    "print sorted(set(data['ID']))\n",
    "print 'N = %i'%len(set(data['ID']))"
   ]
  },
  {
   "cell_type": "code",
   "execution_count": 31,
   "metadata": {
    "collapsed": false
   },
   "outputs": [
    {
     "data": {
      "text/html": [
       "<div>\n",
       "<table border=\"1\" class=\"dataframe\">\n",
       "  <thead>\n",
       "    <tr style=\"text-align: right;\">\n",
       "      <th></th>\n",
       "      <th>L_t1</th>\n",
       "      <th>R_t1</th>\n",
       "    </tr>\n",
       "  </thead>\n",
       "  <tbody>\n",
       "    <tr>\n",
       "      <th>1_1</th>\n",
       "      <td>180</td>\n",
       "      <td>180</td>\n",
       "    </tr>\n",
       "    <tr>\n",
       "      <th>1_10</th>\n",
       "      <td>180</td>\n",
       "      <td>180</td>\n",
       "    </tr>\n",
       "    <tr>\n",
       "      <th>1_2</th>\n",
       "      <td>180</td>\n",
       "      <td>180</td>\n",
       "    </tr>\n",
       "    <tr>\n",
       "      <th>1_3</th>\n",
       "      <td>180</td>\n",
       "      <td>180</td>\n",
       "    </tr>\n",
       "    <tr>\n",
       "      <th>1_4</th>\n",
       "      <td>180</td>\n",
       "      <td>180</td>\n",
       "    </tr>\n",
       "    <tr>\n",
       "      <th>1_5</th>\n",
       "      <td>180</td>\n",
       "      <td>180</td>\n",
       "    </tr>\n",
       "    <tr>\n",
       "      <th>1_6</th>\n",
       "      <td>180</td>\n",
       "      <td>180</td>\n",
       "    </tr>\n",
       "    <tr>\n",
       "      <th>1_7</th>\n",
       "      <td>180</td>\n",
       "      <td>180</td>\n",
       "    </tr>\n",
       "    <tr>\n",
       "      <th>1_8</th>\n",
       "      <td>180</td>\n",
       "      <td>180</td>\n",
       "    </tr>\n",
       "    <tr>\n",
       "      <th>1_9</th>\n",
       "      <td>180</td>\n",
       "      <td>180</td>\n",
       "    </tr>\n",
       "    <tr>\n",
       "      <th>2_1</th>\n",
       "      <td>180</td>\n",
       "      <td>180</td>\n",
       "    </tr>\n",
       "    <tr>\n",
       "      <th>2_2</th>\n",
       "      <td>180</td>\n",
       "      <td>180</td>\n",
       "    </tr>\n",
       "    <tr>\n",
       "      <th>2_3</th>\n",
       "      <td>180</td>\n",
       "      <td>180</td>\n",
       "    </tr>\n",
       "    <tr>\n",
       "      <th>2_4</th>\n",
       "      <td>180</td>\n",
       "      <td>180</td>\n",
       "    </tr>\n",
       "    <tr>\n",
       "      <th>2_5</th>\n",
       "      <td>180</td>\n",
       "      <td>180</td>\n",
       "    </tr>\n",
       "    <tr>\n",
       "      <th>2_6</th>\n",
       "      <td>180</td>\n",
       "      <td>180</td>\n",
       "    </tr>\n",
       "    <tr>\n",
       "      <th>2_7</th>\n",
       "      <td>180</td>\n",
       "      <td>180</td>\n",
       "    </tr>\n",
       "    <tr>\n",
       "      <th>2_8</th>\n",
       "      <td>180</td>\n",
       "      <td>180</td>\n",
       "    </tr>\n",
       "    <tr>\n",
       "      <th>2_9</th>\n",
       "      <td>24</td>\n",
       "      <td>180</td>\n",
       "    </tr>\n",
       "    <tr>\n",
       "      <th>3_1</th>\n",
       "      <td>180</td>\n",
       "      <td>180</td>\n",
       "    </tr>\n",
       "    <tr>\n",
       "      <th>3_2</th>\n",
       "      <td>180</td>\n",
       "      <td>180</td>\n",
       "    </tr>\n",
       "    <tr>\n",
       "      <th>3_3</th>\n",
       "      <td>180</td>\n",
       "      <td>180</td>\n",
       "    </tr>\n",
       "    <tr>\n",
       "      <th>3_4</th>\n",
       "      <td>180</td>\n",
       "      <td>180</td>\n",
       "    </tr>\n",
       "    <tr>\n",
       "      <th>3_5</th>\n",
       "      <td>180</td>\n",
       "      <td>180</td>\n",
       "    </tr>\n",
       "    <tr>\n",
       "      <th>4_1</th>\n",
       "      <td>180</td>\n",
       "      <td>180</td>\n",
       "    </tr>\n",
       "    <tr>\n",
       "      <th>4_2</th>\n",
       "      <td>180</td>\n",
       "      <td>180</td>\n",
       "    </tr>\n",
       "    <tr>\n",
       "      <th>4_3</th>\n",
       "      <td>180</td>\n",
       "      <td>180</td>\n",
       "    </tr>\n",
       "    <tr>\n",
       "      <th>4_4</th>\n",
       "      <td>180</td>\n",
       "      <td>180</td>\n",
       "    </tr>\n",
       "    <tr>\n",
       "      <th>4_5</th>\n",
       "      <td>180</td>\n",
       "      <td>180</td>\n",
       "    </tr>\n",
       "  </tbody>\n",
       "</table>\n",
       "</div>"
      ],
      "text/plain": [
       "      L_t1  R_t1\n",
       "1_1    180   180\n",
       "1_10   180   180\n",
       "1_2    180   180\n",
       "1_3    180   180\n",
       "1_4    180   180\n",
       "1_5    180   180\n",
       "1_6    180   180\n",
       "1_7    180   180\n",
       "1_8    180   180\n",
       "1_9    180   180\n",
       "2_1    180   180\n",
       "2_2    180   180\n",
       "2_3    180   180\n",
       "2_4    180   180\n",
       "2_5    180   180\n",
       "2_6    180   180\n",
       "2_7    180   180\n",
       "2_8    180   180\n",
       "2_9     24   180\n",
       "3_1    180   180\n",
       "3_2    180   180\n",
       "3_3    180   180\n",
       "3_4    180   180\n",
       "3_5    180   180\n",
       "4_1    180   180\n",
       "4_2    180   180\n",
       "4_3    180   180\n",
       "4_4    180   180\n",
       "4_5    180   180"
      ]
     },
     "metadata": {},
     "output_type": "display_data"
    }
   ],
   "source": [
    "# Count trials\n",
    "trials = my.count_trial(data, sorted(set(data.ID)))\n",
    "display(trials)"
   ]
  },
  {
   "cell_type": "code",
   "execution_count": 32,
   "metadata": {
    "collapsed": false
   },
   "outputs": [],
   "source": [
    "# Removing participants with missing data\n",
    "data = data[data['ID'] != '2_9']\n",
    "data = data[data['ID'] != '1_7']"
   ]
  },
  {
   "cell_type": "code",
   "execution_count": 33,
   "metadata": {
    "collapsed": true
   },
   "outputs": [],
   "source": [
    "# Removing left handed participants\n",
    "lefties = ['1_5', '1_10', '2_7', '2_9']\n",
    "# for sub in lefties:\n",
    "#     data = data[data['ID'] != sub]"
   ]
  },
  {
   "cell_type": "code",
   "execution_count": 34,
   "metadata": {
    "collapsed": false
   },
   "outputs": [
    {
     "data": {
      "text/html": [
       "<div>\n",
       "<table border=\"1\" class=\"dataframe\">\n",
       "  <thead>\n",
       "    <tr style=\"text-align: right;\">\n",
       "      <th></th>\n",
       "      <th>Mean error (%)</th>\n",
       "    </tr>\n",
       "  </thead>\n",
       "  <tbody>\n",
       "    <tr>\n",
       "      <th>1_1</th>\n",
       "      <td>3.888889</td>\n",
       "    </tr>\n",
       "    <tr>\n",
       "      <th>1_10</th>\n",
       "      <td>6.944444</td>\n",
       "    </tr>\n",
       "    <tr>\n",
       "      <th>1_2</th>\n",
       "      <td>0.277778</td>\n",
       "    </tr>\n",
       "    <tr>\n",
       "      <th>1_3</th>\n",
       "      <td>5.000000</td>\n",
       "    </tr>\n",
       "    <tr>\n",
       "      <th>1_4</th>\n",
       "      <td>1.944444</td>\n",
       "    </tr>\n",
       "    <tr>\n",
       "      <th>1_5</th>\n",
       "      <td>5.555556</td>\n",
       "    </tr>\n",
       "    <tr>\n",
       "      <th>1_6</th>\n",
       "      <td>6.666667</td>\n",
       "    </tr>\n",
       "    <tr>\n",
       "      <th>1_8</th>\n",
       "      <td>0.000000</td>\n",
       "    </tr>\n",
       "    <tr>\n",
       "      <th>1_9</th>\n",
       "      <td>3.888889</td>\n",
       "    </tr>\n",
       "    <tr>\n",
       "      <th>2_1</th>\n",
       "      <td>2.222222</td>\n",
       "    </tr>\n",
       "    <tr>\n",
       "      <th>2_2</th>\n",
       "      <td>2.777778</td>\n",
       "    </tr>\n",
       "    <tr>\n",
       "      <th>2_3</th>\n",
       "      <td>4.166667</td>\n",
       "    </tr>\n",
       "    <tr>\n",
       "      <th>2_4</th>\n",
       "      <td>2.500000</td>\n",
       "    </tr>\n",
       "    <tr>\n",
       "      <th>2_5</th>\n",
       "      <td>0.555556</td>\n",
       "    </tr>\n",
       "    <tr>\n",
       "      <th>2_6</th>\n",
       "      <td>6.388889</td>\n",
       "    </tr>\n",
       "    <tr>\n",
       "      <th>2_7</th>\n",
       "      <td>1.666667</td>\n",
       "    </tr>\n",
       "    <tr>\n",
       "      <th>2_8</th>\n",
       "      <td>4.722222</td>\n",
       "    </tr>\n",
       "    <tr>\n",
       "      <th>3_1</th>\n",
       "      <td>5.000000</td>\n",
       "    </tr>\n",
       "    <tr>\n",
       "      <th>3_2</th>\n",
       "      <td>1.388889</td>\n",
       "    </tr>\n",
       "    <tr>\n",
       "      <th>3_3</th>\n",
       "      <td>1.111111</td>\n",
       "    </tr>\n",
       "    <tr>\n",
       "      <th>3_4</th>\n",
       "      <td>1.388889</td>\n",
       "    </tr>\n",
       "    <tr>\n",
       "      <th>3_5</th>\n",
       "      <td>5.833333</td>\n",
       "    </tr>\n",
       "    <tr>\n",
       "      <th>4_1</th>\n",
       "      <td>3.611111</td>\n",
       "    </tr>\n",
       "    <tr>\n",
       "      <th>4_2</th>\n",
       "      <td>3.888889</td>\n",
       "    </tr>\n",
       "    <tr>\n",
       "      <th>4_3</th>\n",
       "      <td>6.388889</td>\n",
       "    </tr>\n",
       "    <tr>\n",
       "      <th>4_4</th>\n",
       "      <td>3.611111</td>\n",
       "    </tr>\n",
       "    <tr>\n",
       "      <th>4_5</th>\n",
       "      <td>1.944444</td>\n",
       "    </tr>\n",
       "  </tbody>\n",
       "</table>\n",
       "</div>"
      ],
      "text/plain": [
       "      Mean error (%)\n",
       "1_1         3.888889\n",
       "1_10        6.944444\n",
       "1_2         0.277778\n",
       "1_3         5.000000\n",
       "1_4         1.944444\n",
       "1_5         5.555556\n",
       "1_6         6.666667\n",
       "1_8         0.000000\n",
       "1_9         3.888889\n",
       "2_1         2.222222\n",
       "2_2         2.777778\n",
       "2_3         4.166667\n",
       "2_4         2.500000\n",
       "2_5         0.555556\n",
       "2_6         6.388889\n",
       "2_7         1.666667\n",
       "2_8         4.722222\n",
       "3_1         5.000000\n",
       "3_2         1.388889\n",
       "3_3         1.111111\n",
       "3_4         1.388889\n",
       "3_5         5.833333\n",
       "4_1         3.611111\n",
       "4_2         3.888889\n",
       "4_3         6.388889\n",
       "4_4         3.611111\n",
       "4_5         1.944444"
      ]
     },
     "metadata": {},
     "output_type": "display_data"
    }
   ],
   "source": [
    "# Error rates\n",
    "errors = my.error_rates(data, sorted(set(data['ID'])))\n",
    "display(errors)"
   ]
  },
  {
   "cell_type": "markdown",
   "metadata": {},
   "source": [
    "## Outliers based on error rate\n",
    "Participants with an error rate greater than the mean + 2 standard deviation of the sample are excluded from the analysis."
   ]
  },
  {
   "cell_type": "code",
   "execution_count": 35,
   "metadata": {
    "collapsed": false
   },
   "outputs": [
    {
     "name": "stdout",
     "output_type": "stream",
     "text": [
      "Mean error: 3.457\n",
      "Outliers (error rate above 7.53740589655 %):\n",
      "[]\n",
      "N = 0\n"
     ]
    }
   ],
   "source": [
    "# Filtering I.\n",
    "\n",
    "### Error-rate outliers\n",
    "def error_outlier(data, table, crit_er=0.10, std_range=None):\n",
    "    if std_range != None:\n",
    "        print 'Mean error: %.3f' %np.mean(table['Mean error (%)'])\n",
    "        np.std(table['Mean error (%)'])\n",
    "        crit_er = np.mean(table['Mean error (%)'])/100 + (std_range * np.std(table['Mean error (%)']))/100\n",
    "    outlier_error = []\n",
    "    for i, sub in enumerate(table.iterrows()):\n",
    "        if table.iloc[i][0] >= crit_er*100:\n",
    "            outlier_error.insert(i, sub[0])\n",
    "    print 'Outliers (error rate above',crit_er*100,'%):'\n",
    "    print outlier_error\n",
    "    print 'N =', len(outlier_error)\n",
    "    for i, sub in enumerate(outlier_error):\n",
    "        data = data[data['ID'] != sub]\n",
    "    return data\n",
    "\n",
    "data = error_outlier(data, errors, std_range=2)"
   ]
  },
  {
   "cell_type": "code",
   "execution_count": 36,
   "metadata": {
    "collapsed": false
   },
   "outputs": [],
   "source": [
    "data = data[data['Resp_side'] == 'left']\n",
    "# data = data[data['Block'] == 1]"
   ]
  },
  {
   "cell_type": "code",
   "execution_count": 37,
   "metadata": {
    "collapsed": false
   },
   "outputs": [],
   "source": [
    "# Filtering II.\n",
    "\n",
    "### Erroneous responses\n",
    "data = data[data['Error'] == 0]\n",
    "\n",
    "# ## Extreme reaction times\n",
    "# data = data[data['RTms'] <= 2000]\n",
    "# data = data[data['RTms'] >= 200]\n",
    "\n",
    "# # Extreme reaction times\n",
    "# cleaned = []\n",
    "# for sub in set(data['ID']):\n",
    "#     sub_data = data[data['ID'] == sub]\n",
    "#     for hand in set(sub_data['Resp_side']):\n",
    "#         hand_data = sub_data[sub_data['Resp_side'] == hand]\n",
    "#         for val in set(hand_data['Value']):\n",
    "#             val_data = hand_data[hand_data['Value'] == val]\n",
    "#             for font in set(val_data['Font']):\n",
    "#                 cell = val_data[val_data['Font'] == font]\n",
    "#                 while True:\n",
    "#                     std = np.std(cell['RTms'])\n",
    "#                     mean = np.mean(cell['RTms'])\n",
    "#                     cell = cell[cell['RTms'] > mean-2.5*std]\n",
    "#                     cell = cell[cell['RTms'] < mean+2.5*std]\n",
    "#                     if np.mean(cell['RTms']) == mean:\n",
    "#                         break\n",
    "#                 cleaned.append(cell)\n",
    "# data = pd.concat(cleaned)"
   ]
  },
  {
   "cell_type": "code",
   "execution_count": 38,
   "metadata": {
    "collapsed": false
   },
   "outputs": [
    {
     "data": {
      "text/plain": [
       "<matplotlib.axes._subplots.AxesSubplot at 0x7f47f8ba4050>"
      ]
     },
     "execution_count": 38,
     "metadata": {},
     "output_type": "execute_result"
    },
    {
     "data": {
      "image/png": "[encoded data removed]",
      "text/plain": [
       "<matplotlib.figure.Figure at 0x7f47fc59fd10>"
      ]
     },
     "metadata": {},
     "output_type": "display_data"
    }
   ],
   "source": [
    "# Reaction time\n",
    "sans_table = pd.pivot_table(data[data['Font'] == 'FreeSans'], values='RT', index='ID', columns='Value', aggfunc=np.median)\n",
    "courier_table = pd.pivot_table(data[data['Font'] == 'Courier New'], values='RT', index='ID', columns='Value', aggfunc=np.median)\n",
    "diff_table = pd.DataFrame(sans_table.values - courier_table.values, columns=sorted(set(data['Value'])), index=sorted(set(data['ID'])))\n",
    "\n",
    "rt_sans = sans_table.mean()\n",
    "rt_courier = courier_table.mean()\n",
    "rt_diff = diff_table.mean()\n",
    "rt = pd.DataFrame([rt_sans.values, rt_courier.values, rt_diff.values], columns=sorted(set(data['Value'])), index=['FreeSans.ttf', 'Courier_New.ttf', 'Diff']).T\n",
    "\n",
    "rt.plot()"
   ]
  },
  {
   "cell_type": "code",
   "execution_count": 39,
   "metadata": {
    "collapsed": false
   },
   "outputs": [
    {
     "data": {
      "text/plain": [
       "<matplotlib.axes._subplots.AxesSubplot at 0x7f47f8c20210>"
      ]
     },
     "execution_count": 39,
     "metadata": {},
     "output_type": "execute_result"
    },
    {
     "data": {
      "image/png": "[encoded data removed]",
      "text/plain": [
       "<matplotlib.figure.Figure at 0x7f47fc84e190>"
      ]
     },
     "metadata": {},
     "output_type": "display_data"
    }
   ],
   "source": [
    "complexity.plot()"
   ]
  },
  {
   "cell_type": "code",
   "execution_count": 40,
   "metadata": {
    "collapsed": false
   },
   "outputs": [],
   "source": [
    "# # Reaction time\n",
    "# table = pd.pivot_table(data, values='RTms', index=['Font', 'ID'], columns='Value', aggfunc=np.median)\n",
    "# c_table = pd.DataFrame(stats.zscore(table)[:len(table)/2], columns=sorted(set(data['Value'])), index=sorted(set(data['ID'])))\n",
    "# s_table = pd.DataFrame(stats.zscore(table)[len(table)/2:], columns=sorted(set(data['Value'])), index=sorted(set(data['ID'])))\n",
    "# diff_table = pd.DataFrame(s_table.values - c_table.values, columns=sorted(set(data['Value'])), index=sorted(set(data['ID'])))\n",
    "\n",
    "# rt_sans = s_table.mean()\n",
    "# rt_courier = c_table.mean()\n",
    "# rt_diff = diff_table.mean()\n",
    "# rt = pd.DataFrame([rt_sans.values, rt_courier.values, rt_diff.values], columns=sorted(set(data['Value'])), index=['FreeSans.ttf', 'Courier_New.ttf', 'Diff']).T\n",
    "\n",
    "# rt.plot()"
   ]
  },
  {
   "cell_type": "code",
   "execution_count": 41,
   "metadata": {
    "collapsed": false
   },
   "outputs": [
    {
     "data": {
      "text/plain": [
       "(0.44564076511420664, 0.2292910074379011)"
      ]
     },
     "execution_count": 41,
     "metadata": {},
     "output_type": "execute_result"
    }
   ],
   "source": [
    "stats.pearsonr(complexity['Diff'], rt['Diff'])"
   ]
  },
  {
   "cell_type": "code",
   "execution_count": 42,
   "metadata": {
    "collapsed": false
   },
   "outputs": [
    {
     "name": "stdout",
     "output_type": "stream",
     "text": [
      "FreeSans.ttf FreeSans.ttf (0.72288452259901803, 0.027775680609350463)\n",
      "FreeSans.ttf Courier_New.ttf (0.31172414848392682, 0.41416176607106336)\n",
      "FreeSans.ttf Diff (0.59413082352533053, 0.091594777537703398)\n",
      "Courier_New.ttf FreeSans.ttf (0.72402537508029574, 0.027411199750526621)\n",
      "Courier_New.ttf Courier_New.ttf (0.47713905364164461, 0.19402169232370683)\n",
      "Courier_New.ttf Diff (0.50324374847114262, 0.16726899364266662)\n",
      "Diff FreeSans.ttf (0.40756846833953642, 0.27622423458752859)\n",
      "Diff Courier_New.ttf (-0.023008027219308821, 0.95314910388657947)\n",
      "Diff Diff (0.44564076511420664, 0.2292910074379011)\n"
     ]
    }
   ],
   "source": [
    "for c in complexity.columns:\n",
    "    for t in rt.columns:\n",
    "        print c, t, stats.pearsonr(complexity[c], rt[t])"
   ]
  }
 ],
 "metadata": {
  "hide_input": false,
  "kernelspec": {
   "display_name": "Python 2",
   "language": "python",
   "name": "python2"
  },
  "language_info": {
   "codemirror_mode": {
    "name": "ipython",
    "version": 2
   },
   "file_extension": ".py",
   "mimetype": "text/x-python",
   "name": "python",
   "nbconvert_exporter": "python",
   "pygments_lexer": "ipython2",
   "version": "2.7.12"
  },
  "nav_menu": {},
  "toc": {
   "navigate_menu": true,
   "number_sections": false,
   "sideBar": true,
   "threshold": 6,
   "toc_cell": false,
   "toc_section_display": "block",
   "toc_window_display": true
  }
 },
 "nbformat": 4,
 "nbformat_minor": 0
}
